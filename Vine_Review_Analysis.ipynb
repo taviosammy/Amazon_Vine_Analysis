{
  "nbformat": 4,
  "nbformat_minor": 0,
  "metadata": {
    "colab": {
      "name": "Vine_Review_Analysis.ipynb",
      "provenance": [],
      "collapsed_sections": []
    },
    "kernelspec": {
      "name": "python3",
      "display_name": "Python 3"
    },
    "language_info": {
      "name": "python"
    }
  },
  "cells": [
    {
      "cell_type": "code",
      "execution_count": 1,
      "metadata": {
        "colab": {
          "base_uri": "https://localhost:8080/"
        },
        "id": "HAqmfO4F03cM",
        "outputId": "985eac7c-66ab-4bcf-ea46-15598e7630fe"
      },
      "outputs": [
        {
          "output_type": "stream",
          "name": "stdout",
          "text": [
            "\r0% [Working]\r            \rHit:1 http://ppa.launchpad.net/c2d4u.team/c2d4u4.0+/ubuntu bionic InRelease\n",
            "\r0% [Connecting to archive.ubuntu.com (185.125.190.36)] [Waiting for headers] [C\r                                                                               \rHit:2 http://archive.ubuntu.com/ubuntu bionic InRelease\n",
            "\r                                                                               \rGet:3 http://security.ubuntu.com/ubuntu bionic-security InRelease [88.7 kB]\n",
            "\r0% [Waiting for headers] [3 InRelease 43.1 kB/88.7 kB 49%] [Connecting to cloud\r0% [1 InRelease gpgv 15.9 kB] [Waiting for headers] [3 InRelease 43.1 kB/88.7 k\r                                                                               \rHit:4 http://ppa.launchpad.net/cran/libgit2/ubuntu bionic InRelease\n",
            "\r0% [1 InRelease gpgv 15.9 kB] [Waiting for headers] [3 InRelease 48.9 kB/88.7 k\r                                                                               \rGet:5 http://archive.ubuntu.com/ubuntu bionic-updates InRelease [88.7 kB]\n",
            "\r0% [1 InRelease gpgv 15.9 kB] [5 InRelease 14.2 kB/88.7 kB 16%] [3 InRelease 57\r0% [1 InRelease gpgv 15.9 kB] [5 InRelease 15.6 kB/88.7 kB 18%] [Connecting to \r                                                                               \rHit:6 https://developer.download.nvidia.com/compute/cuda/repos/ubuntu1804/x86_64  InRelease\n",
            "\r0% [1 InRelease gpgv 15.9 kB] [5 InRelease 24.3 kB/88.7 kB 27%] [Connected to c\r                                                                               \rHit:7 http://ppa.launchpad.net/deadsnakes/ppa/ubuntu bionic InRelease\n",
            "\r0% [1 InRelease gpgv 15.9 kB] [5 InRelease 38.8 kB/88.7 kB 44%] [Connected to c\r0% [1 InRelease gpgv 15.9 kB] [Waiting for headers] [Connected to cloud.r-proje\r                                                                               \rHit:8 http://ppa.launchpad.net/graphics-drivers/ppa/ubuntu bionic InRelease\n",
            "\r0% [1 InRelease gpgv 15.9 kB] [Waiting for headers] [Connected to cloud.r-proje\r                                                                               \rGet:9 http://archive.ubuntu.com/ubuntu bionic-backports InRelease [74.6 kB]\n",
            "Get:10 https://cloud.r-project.org/bin/linux/ubuntu bionic-cran40/ InRelease [3,626 B]\n",
            "Ign:11 https://developer.download.nvidia.com/compute/machine-learning/repos/ubuntu1804/x86_64  InRelease\n",
            "Hit:12 https://developer.download.nvidia.com/compute/machine-learning/repos/ubuntu1804/x86_64  Release\n",
            "Get:13 http://security.ubuntu.com/ubuntu bionic-security/restricted amd64 Packages [1,063 kB]\n",
            "Get:14 http://security.ubuntu.com/ubuntu bionic-security/universe amd64 Packages [1,527 kB]\n",
            "Get:15 http://security.ubuntu.com/ubuntu bionic-security/main amd64 Packages [2,901 kB]\n",
            "Get:16 http://archive.ubuntu.com/ubuntu bionic-updates/restricted amd64 Packages [1,105 kB]\n",
            "Get:17 http://archive.ubuntu.com/ubuntu bionic-updates/universe amd64 Packages [2,304 kB]\n",
            "Get:18 http://archive.ubuntu.com/ubuntu bionic-updates/main amd64 Packages [3,333 kB]\n",
            "Get:19 https://cloud.r-project.org/bin/linux/ubuntu bionic-cran40/ Packages [85.6 kB]\n",
            "Fetched 12.6 MB in 3s (3,970 kB/s)\n",
            "Reading package lists... Done\n"
          ]
        }
      ],
      "source": [
        "import os\n",
        "# Find the latest version of spark 3.0 from http://www.apache.org/dist/spark/ and enter as the spark version\n",
        "# For example:\n",
        "# spark_version = 'spark-3.0.3'\n",
        "spark_version = 'spark-3.0.3'\n",
        "os.environ['SPARK_VERSION']=spark_version\n",
        "\n",
        "# Install Spark and Java\n",
        "!apt-get update\n",
        "!apt-get install openjdk-11-jdk-headless -qq > /dev/null\n",
        "!wget -q http://www.apache.org/dist/spark/$SPARK_VERSION/$SPARK_VERSION-bin-hadoop2.7.tgz\n",
        "!tar xf $SPARK_VERSION-bin-hadoop2.7.tgz\n",
        "!pip install -q findspark\n",
        "\n",
        "# Set Environment Variables\n",
        "import os\n",
        "os.environ[\"JAVA_HOME\"] = \"/usr/lib/jvm/java-11-openjdk-amd64\"\n",
        "os.environ[\"SPARK_HOME\"] = f\"/content/{spark_version}-bin-hadoop2.7\"\n",
        "\n",
        "# Start a SparkSession\n",
        "import findspark\n",
        "findspark.init()"
      ]
    },
    {
      "cell_type": "code",
      "source": [
        "# Download the Postgres driver that will allow Spark to interact with Postgres.\n",
        "!wget https://jdbc.postgresql.org/download/postgresql-42.2.16.jar"
      ],
      "metadata": {
        "colab": {
          "base_uri": "https://localhost:8080/"
        },
        "id": "axLy9pjUH-gR",
        "outputId": "3c0f69dc-1848-4977-8b53-6cce4f44bf5b"
      },
      "execution_count": 2,
      "outputs": [
        {
          "output_type": "stream",
          "name": "stdout",
          "text": [
            "--2022-07-20 19:40:09--  https://jdbc.postgresql.org/download/postgresql-42.2.16.jar\n",
            "Resolving jdbc.postgresql.org (jdbc.postgresql.org)... 72.32.157.228, 2001:4800:3e1:1::228\n",
            "Connecting to jdbc.postgresql.org (jdbc.postgresql.org)|72.32.157.228|:443... connected.\n",
            "HTTP request sent, awaiting response... 200 OK\n",
            "Length: 1002883 (979K) [application/java-archive]\n",
            "Saving to: ‘postgresql-42.2.16.jar’\n",
            "\n",
            "postgresql-42.2.16. 100%[===================>] 979.38K  1.60MB/s    in 0.6s    \n",
            "\n",
            "2022-07-20 19:40:10 (1.60 MB/s) - ‘postgresql-42.2.16.jar’ saved [1002883/1002883]\n",
            "\n"
          ]
        }
      ]
    },
    {
      "cell_type": "code",
      "source": [
        "from pyspark.sql import SparkSession\n",
        "spark = SparkSession.builder.appName(\"M16-Amazon-Challenge2\").config(\"spark.driver.extraClassPath\",\"/content/postgresql-42.2.16.jar\").getOrCreate()"
      ],
      "metadata": {
        "id": "X9-hMYPfIC9s"
      },
      "execution_count": 3,
      "outputs": []
    },
    {
      "cell_type": "code",
      "source": [
        "from pyspark import SparkFiles\n",
        "url = \"https://s3.amazonaws.com/amazon-reviews-pds/tsv/amazon_reviews_us_Mobile_Electronics_v1_00.tsv.gz\"\n",
        "spark.sparkContext.addFile(url)\n",
        "df = spark.read.option(\"encoding\", \"UTF-8\").csv(SparkFiles.get(\"amazon_reviews_us_Mobile_Electronics_v1_00.tsv.gz\"), sep=\"\\t\", header=True, inferSchema=True)\n",
        "df.show()"
      ],
      "metadata": {
        "colab": {
          "base_uri": "https://localhost:8080/"
        },
        "id": "vJ9yKHJFILEN",
        "outputId": "44613b1c-a953-4efb-9f81-6b666ba345ac"
      },
      "execution_count": 4,
      "outputs": [
        {
          "output_type": "stream",
          "name": "stdout",
          "text": [
            "+-----------+-----------+--------------+----------+--------------+--------------------+------------------+-----------+-------------+-----------+----+-----------------+--------------------+--------------------+-----------+\n",
            "|marketplace|customer_id|     review_id|product_id|product_parent|       product_title|  product_category|star_rating|helpful_votes|total_votes|vine|verified_purchase|     review_headline|         review_body|review_date|\n",
            "+-----------+-----------+--------------+----------+--------------+--------------------+------------------+-----------+-------------+-----------+----+-----------------+--------------------+--------------------+-----------+\n",
            "|         US|   20422322| R8MEA6IGAHO0B|B00MC4CED8|     217304173|BlackVue DR600GW-PMP|Mobile_Electronics|          5|            0|          0|   N|                Y|         Very Happy!|As advertised. Ev...| 2015-08-31|\n",
            "|         US|   40835037|R31LOQ8JGLPRLK|B00OQMFG1Q|     137313254|GENSSI GSM / GPS ...|Mobile_Electronics|          5|            0|          1|   N|                Y|           five star|          it's great| 2015-08-31|\n",
            "|         US|   51469641|R2Y0MM9YE6OP3P|B00QERR5CY|      82850235|iXCC Multi pack L...|Mobile_Electronics|          5|            0|          0|   N|                Y|        great cables|These work great ...| 2015-08-31|\n",
            "|         US|    4332923| RRB9C05HDOD4O|B00QUFTPV4|     221169481|abcGoodefg® FBI C...|Mobile_Electronics|          4|            0|          0|   N|                Y|Work very well bu...|Work very well bu...| 2015-08-31|\n",
            "|         US|   44855305|R26I2RI1GFV8QG|B0067XVNTG|     563475445|Generic Car Dashb...|Mobile_Electronics|          2|            0|          0|   N|                Y|Cameras has batte...|Be careful with t...| 2015-08-31|\n",
            "|         US|    7846966| RY8DDL22YG4R5|B00KA6CCVY|     713636156|Aweek® Air Acoust...|Mobile_Electronics|          3|            0|          1|   N|                Y|It appears to be ...|It appears to be ...| 2015-08-31|\n",
            "|         US|   21299354|R2AT2426ZHFUHH|B00MJCDPM2|     754171872|Sentey LS-4460 B-...|Mobile_Electronics|          3|            0|          1|   N|                Y|Didn't love the f...|First one arrived...| 2015-08-31|\n",
            "|         US|   28902968|R3RRXU2R23NMQ9|B00ET5AWBY|     508373185|iPad Car Headrest...|Mobile_Electronics|          5|            0|          0|   N|                Y|          Five Stars|Worked great for ...| 2015-08-31|\n",
            "|         US|    2074438|R250PR8VJUZ62F|B00Z9K379C|     759387370|ANWING Waterproof...|Mobile_Electronics|          4|            0|          2|   N|                Y|          Four Stars|this is a very go...| 2015-08-31|\n",
            "|         US|   48701722| RBEMQ29WJBHYG|B00YO3UYXW|     913911909|Jensen MCR-100 Ca...|Mobile_Electronics|          5|          164|        168|   N|                Y|  I LOVE my recorder|I LOVE my recorde...| 2015-08-31|\n",
            "|         US|    2990247|R19VVIUT4BZCMT|B011W26BU2|     938399424|Bluetooth Speaker...|Mobile_Electronics|          5|            2|          2|   N|                Y|          Five Stars|Great sound great...| 2015-08-31|\n",
            "|         US|   52946117|R1DT8JJUQHUKUL|B00H8PI78C|     661515294|15Pcs DC 5V 85dB ...|Mobile_Electronics|          3|            0|          1|   N|                Y|More of a beeper ...|If what you want ...| 2015-08-31|\n",
            "|         US|   49359994| RLIL6S9OGM3YA|B00M49C6MK|      91176851|      Sentey Ls 4162|Mobile_Electronics|          5|            0|          0|   N|                Y|          Five Stars|             Love it| 2015-08-31|\n",
            "|         US|    4158732|R34EZZ68VYPHO0|B011Q291PK|     891142775|IcePACK 8 Can Ins...|Mobile_Electronics|          1|            1|          1|   N|                Y|            One Star|               Sucks| 2015-08-31|\n",
            "|         US|   18944032|R3TZNSOXS13SIG|B00W6OLUGQ|     577462547|DTK® AMI MDI MMI ...|Mobile_Electronics|          2|            1|          3|   N|                Y|           Two Stars|u need to plug in...| 2015-08-31|\n",
            "|         US|     279606|R12UBZT87UX3AP|B008MY1F8W|     680240984|INPA K+CAN K+DCAN...|Mobile_Electronics|          5|            2|          2|   N|                Y|          Five Stars|Worked with MHD F...| 2015-08-31|\n",
            "|         US|   10947966| R5KCRE927NYMU|B00KW3XNUE|     219920841|Magicfly Wireless...|Mobile_Electronics|          2|            0|          0|   N|                N|Battery Cover Poo...|Just arrived,  re...| 2015-08-31|\n",
            "|         US|   18387442| RT12RQFU0V2AX|B009NGR0AK|     254898339|Humminbird XNT 9 ...|Mobile_Electronics|          5|            1|          1|   N|                Y|        Works great.|I bought this uni...| 2015-08-31|\n",
            "|         US|   48950322|R2K0YQPV5W2SJ1|B011W26BU2|     938399424|Bluetooth Speaker...|Mobile_Electronics|          4|            2|          2|   N|                Y|A Lot of Sound In...|I am giving the s...| 2015-08-31|\n",
            "|         US|   48148197|R104MY31OKNGXH|B00PAP68WO|     366592530|Foxnovo 3.7V 380m...|Mobile_Electronics|          5|            0|          0|   N|                Y|          Five Stars|Met my applicatio...| 2015-08-31|\n",
            "+-----------+-----------+--------------+----------+--------------+--------------------+------------------+-----------+-------------+-----------+----+-----------------+--------------------+--------------------+-----------+\n",
            "only showing top 20 rows\n",
            "\n"
          ]
        }
      ]
    },
    {
      "cell_type": "code",
      "source": [
        "from pyspark.sql.functions import to_date\n",
        "# Read in the Review dataset as a DataFrame\n",
        "drop_na_df = df.dropna()\n",
        "drop_na_df.show()"
      ],
      "metadata": {
        "colab": {
          "base_uri": "https://localhost:8080/"
        },
        "id": "mXIIWPY7JWx7",
        "outputId": "2e781c00-da11-4d15-94c0-56431136709b"
      },
      "execution_count": 5,
      "outputs": [
        {
          "output_type": "stream",
          "name": "stdout",
          "text": [
            "+-----------+-----------+--------------+----------+--------------+--------------------+------------------+-----------+-------------+-----------+----+-----------------+--------------------+--------------------+-----------+\n",
            "|marketplace|customer_id|     review_id|product_id|product_parent|       product_title|  product_category|star_rating|helpful_votes|total_votes|vine|verified_purchase|     review_headline|         review_body|review_date|\n",
            "+-----------+-----------+--------------+----------+--------------+--------------------+------------------+-----------+-------------+-----------+----+-----------------+--------------------+--------------------+-----------+\n",
            "|         US|   20422322| R8MEA6IGAHO0B|B00MC4CED8|     217304173|BlackVue DR600GW-PMP|Mobile_Electronics|          5|            0|          0|   N|                Y|         Very Happy!|As advertised. Ev...| 2015-08-31|\n",
            "|         US|   40835037|R31LOQ8JGLPRLK|B00OQMFG1Q|     137313254|GENSSI GSM / GPS ...|Mobile_Electronics|          5|            0|          1|   N|                Y|           five star|          it's great| 2015-08-31|\n",
            "|         US|   51469641|R2Y0MM9YE6OP3P|B00QERR5CY|      82850235|iXCC Multi pack L...|Mobile_Electronics|          5|            0|          0|   N|                Y|        great cables|These work great ...| 2015-08-31|\n",
            "|         US|    4332923| RRB9C05HDOD4O|B00QUFTPV4|     221169481|abcGoodefg® FBI C...|Mobile_Electronics|          4|            0|          0|   N|                Y|Work very well bu...|Work very well bu...| 2015-08-31|\n",
            "|         US|   44855305|R26I2RI1GFV8QG|B0067XVNTG|     563475445|Generic Car Dashb...|Mobile_Electronics|          2|            0|          0|   N|                Y|Cameras has batte...|Be careful with t...| 2015-08-31|\n",
            "|         US|    7846966| RY8DDL22YG4R5|B00KA6CCVY|     713636156|Aweek® Air Acoust...|Mobile_Electronics|          3|            0|          1|   N|                Y|It appears to be ...|It appears to be ...| 2015-08-31|\n",
            "|         US|   21299354|R2AT2426ZHFUHH|B00MJCDPM2|     754171872|Sentey LS-4460 B-...|Mobile_Electronics|          3|            0|          1|   N|                Y|Didn't love the f...|First one arrived...| 2015-08-31|\n",
            "|         US|   28902968|R3RRXU2R23NMQ9|B00ET5AWBY|     508373185|iPad Car Headrest...|Mobile_Electronics|          5|            0|          0|   N|                Y|          Five Stars|Worked great for ...| 2015-08-31|\n",
            "|         US|    2074438|R250PR8VJUZ62F|B00Z9K379C|     759387370|ANWING Waterproof...|Mobile_Electronics|          4|            0|          2|   N|                Y|          Four Stars|this is a very go...| 2015-08-31|\n",
            "|         US|   48701722| RBEMQ29WJBHYG|B00YO3UYXW|     913911909|Jensen MCR-100 Ca...|Mobile_Electronics|          5|          164|        168|   N|                Y|  I LOVE my recorder|I LOVE my recorde...| 2015-08-31|\n",
            "|         US|    2990247|R19VVIUT4BZCMT|B011W26BU2|     938399424|Bluetooth Speaker...|Mobile_Electronics|          5|            2|          2|   N|                Y|          Five Stars|Great sound great...| 2015-08-31|\n",
            "|         US|   52946117|R1DT8JJUQHUKUL|B00H8PI78C|     661515294|15Pcs DC 5V 85dB ...|Mobile_Electronics|          3|            0|          1|   N|                Y|More of a beeper ...|If what you want ...| 2015-08-31|\n",
            "|         US|   49359994| RLIL6S9OGM3YA|B00M49C6MK|      91176851|      Sentey Ls 4162|Mobile_Electronics|          5|            0|          0|   N|                Y|          Five Stars|             Love it| 2015-08-31|\n",
            "|         US|    4158732|R34EZZ68VYPHO0|B011Q291PK|     891142775|IcePACK 8 Can Ins...|Mobile_Electronics|          1|            1|          1|   N|                Y|            One Star|               Sucks| 2015-08-31|\n",
            "|         US|   18944032|R3TZNSOXS13SIG|B00W6OLUGQ|     577462547|DTK® AMI MDI MMI ...|Mobile_Electronics|          2|            1|          3|   N|                Y|           Two Stars|u need to plug in...| 2015-08-31|\n",
            "|         US|     279606|R12UBZT87UX3AP|B008MY1F8W|     680240984|INPA K+CAN K+DCAN...|Mobile_Electronics|          5|            2|          2|   N|                Y|          Five Stars|Worked with MHD F...| 2015-08-31|\n",
            "|         US|   10947966| R5KCRE927NYMU|B00KW3XNUE|     219920841|Magicfly Wireless...|Mobile_Electronics|          2|            0|          0|   N|                N|Battery Cover Poo...|Just arrived,  re...| 2015-08-31|\n",
            "|         US|   18387442| RT12RQFU0V2AX|B009NGR0AK|     254898339|Humminbird XNT 9 ...|Mobile_Electronics|          5|            1|          1|   N|                Y|        Works great.|I bought this uni...| 2015-08-31|\n",
            "|         US|   48950322|R2K0YQPV5W2SJ1|B011W26BU2|     938399424|Bluetooth Speaker...|Mobile_Electronics|          4|            2|          2|   N|                Y|A Lot of Sound In...|I am giving the s...| 2015-08-31|\n",
            "|         US|   48148197|R104MY31OKNGXH|B00PAP68WO|     366592530|Foxnovo 3.7V 380m...|Mobile_Electronics|          5|            0|          0|   N|                Y|          Five Stars|Met my applicatio...| 2015-08-31|\n",
            "+-----------+-----------+--------------+----------+--------------+--------------------+------------------+-----------+-------------+-----------+----+-----------------+--------------------+--------------------+-----------+\n",
            "only showing top 20 rows\n",
            "\n"
          ]
        }
      ]
    },
    {
      "cell_type": "markdown",
      "source": [
        "Filter the data and create a new DataFrame or table to retrieve all the rows where the total_votes count is equal to or greater than 20 to pick reviews that are more likely to be helpful and to avoid having division by zero errors later on."
      ],
      "metadata": {
        "id": "YTLkTJcoJ3tK"
      }
    },
    {
      "cell_type": "code",
      "source": [
        "#vine_df\n",
        "vine_df = drop_na_df.select([\"review_id\",\"star_rating\",\"helpful_votes\",\"total_votes\",\"vine\",\"verified_purchase\"])\n",
        "#dataframe with total votes greater than or equal to 20\n",
        "filtered_vine_df=vine_df.filter(\"total_votes>=20\")\n",
        "filtered_vine_df.show()"
      ],
      "metadata": {
        "colab": {
          "base_uri": "https://localhost:8080/"
        },
        "id": "ad5Tezg9JYtX",
        "outputId": "750ecce3-3ce7-4af4-e278-e27463d50642"
      },
      "execution_count": 6,
      "outputs": [
        {
          "output_type": "stream",
          "name": "stdout",
          "text": [
            "+--------------+-----------+-------------+-----------+----+-----------------+\n",
            "|     review_id|star_rating|helpful_votes|total_votes|vine|verified_purchase|\n",
            "+--------------+-----------+-------------+-----------+----+-----------------+\n",
            "| RBEMQ29WJBHYG|          5|          164|        168|   N|                Y|\n",
            "|R2JK5Y8D5MXAGP|          1|            5|        121|   N|                Y|\n",
            "|R13W3EMIUV120L|          4|          288|        294|   N|                Y|\n",
            "|R30TJ8POYNVCRE|          5|           15|         21|   N|                N|\n",
            "|R1H5Y9Z2DHRNVO|          1|            4|         95|   N|                Y|\n",
            "|R1LK03P7BCJEJD|          1|           31|         35|   N|                Y|\n",
            "| RBXUICKGHL685|          1|           48|         52|   N|                N|\n",
            "|R2E16WLZKP78GO|          5|           19|         21|   N|                Y|\n",
            "|R1EN4PGQIFSENW|          5|           27|         28|   N|                Y|\n",
            "| RXZWQU66AHIYG|          5|           24|         25|   N|                Y|\n",
            "|R2IXCZCSUKH8FB|          3|           78|         82|   N|                Y|\n",
            "|R25RB38U9LL8OE|          5|           24|         29|   N|                Y|\n",
            "|R1Q0XK7VKU3EKX|          1|            7|        130|   N|                Y|\n",
            "| RSHPPH6BRXYRS|          2|           42|         48|   N|                N|\n",
            "|R39HYCYEWFZP3B|          5|           36|         36|   N|                N|\n",
            "|R2C68DIKTG0M7W|          5|           18|         20|   N|                Y|\n",
            "|R2I6O4S2CZK8WQ|          1|          175|        181|   N|                Y|\n",
            "|R1EPU8R4MVRIQ7|          4|           21|         22|   N|                Y|\n",
            "| RN55T65W485LS|          1|            5|        222|   N|                N|\n",
            "|R1AL1OVEHNX5JC|          5|           19|         22|   N|                Y|\n",
            "+--------------+-----------+-------------+-----------+----+-----------------+\n",
            "only showing top 20 rows\n",
            "\n"
          ]
        }
      ]
    },
    {
      "cell_type": "markdown",
      "source": [
        "Filter the new DataFrame or table created in Step 1 and create a new DataFrame or table to retrieve all the rows where the number of helpful_votes divided by total_votes is equal to or greater than 50%."
      ],
      "metadata": {
        "id": "0miyv-rpJwAo"
      }
    },
    {
      "cell_type": "code",
      "source": [
        "helpful_reviews_df = filtered_vine_df.filter(\"(helpful_votes/total_votes)>=0.5\")\n",
        "helpful_reviews_df.show()"
      ],
      "metadata": {
        "colab": {
          "base_uri": "https://localhost:8080/"
        },
        "id": "Z5ikSo3-JYqt",
        "outputId": "c1f822fc-fdc1-44ae-da8f-fc0e55f25dc7"
      },
      "execution_count": 7,
      "outputs": [
        {
          "output_type": "stream",
          "name": "stdout",
          "text": [
            "+--------------+-----------+-------------+-----------+----+-----------------+\n",
            "|     review_id|star_rating|helpful_votes|total_votes|vine|verified_purchase|\n",
            "+--------------+-----------+-------------+-----------+----+-----------------+\n",
            "| RBEMQ29WJBHYG|          5|          164|        168|   N|                Y|\n",
            "|R13W3EMIUV120L|          4|          288|        294|   N|                Y|\n",
            "|R30TJ8POYNVCRE|          5|           15|         21|   N|                N|\n",
            "|R1LK03P7BCJEJD|          1|           31|         35|   N|                Y|\n",
            "| RBXUICKGHL685|          1|           48|         52|   N|                N|\n",
            "|R2E16WLZKP78GO|          5|           19|         21|   N|                Y|\n",
            "|R1EN4PGQIFSENW|          5|           27|         28|   N|                Y|\n",
            "| RXZWQU66AHIYG|          5|           24|         25|   N|                Y|\n",
            "|R2IXCZCSUKH8FB|          3|           78|         82|   N|                Y|\n",
            "|R25RB38U9LL8OE|          5|           24|         29|   N|                Y|\n",
            "| RSHPPH6BRXYRS|          2|           42|         48|   N|                N|\n",
            "|R39HYCYEWFZP3B|          5|           36|         36|   N|                N|\n",
            "|R2C68DIKTG0M7W|          5|           18|         20|   N|                Y|\n",
            "|R2I6O4S2CZK8WQ|          1|          175|        181|   N|                Y|\n",
            "|R1EPU8R4MVRIQ7|          4|           21|         22|   N|                Y|\n",
            "|R1AL1OVEHNX5JC|          5|           19|         22|   N|                Y|\n",
            "| RVE1FMV48N1ZD|          5|           37|         41|   N|                N|\n",
            "| R6SR9BXDPIYMZ|          5|           51|         57|   N|                Y|\n",
            "|R1JQPDB1WJ4CKV|          3|           25|         26|   N|                N|\n",
            "|R3L7LS0NW1L6PQ|          5|           97|        101|   N|                Y|\n",
            "+--------------+-----------+-------------+-----------+----+-----------------+\n",
            "only showing top 20 rows\n",
            "\n"
          ]
        }
      ]
    },
    {
      "cell_type": "markdown",
      "source": [
        "Filter the DataFrame or table created in Step 2, and create a new DataFrame or table that retrieves all the rows where a review was written as part of the Vine program (paid), vine == 'Y'."
      ],
      "metadata": {
        "id": "P-wcRr_dKSQE"
      }
    },
    {
      "cell_type": "code",
      "source": [
        "vine_helpful_reviews_df=helpful_reviews_df.filter(\"vine=='Y'\")\n",
        "vine_helpful_reviews_df.show()"
      ],
      "metadata": {
        "colab": {
          "base_uri": "https://localhost:8080/"
        },
        "id": "XmDaDq73JYnX",
        "outputId": "3f68bafc-b316-47a0-8c77-4389dcbf372a"
      },
      "execution_count": 8,
      "outputs": [
        {
          "output_type": "stream",
          "name": "stdout",
          "text": [
            "+--------------+-----------+-------------+-----------+----+-----------------+\n",
            "|     review_id|star_rating|helpful_votes|total_votes|vine|verified_purchase|\n",
            "+--------------+-----------+-------------+-----------+----+-----------------+\n",
            "|R3BOQTLUU3Y4L8|          4|           42|         55|   Y|                N|\n",
            "| RWF03LXVXC22A|          3|          396|        445|   Y|                N|\n",
            "| REPU28WG1VZUE|          5|          242|        281|   Y|                N|\n",
            "|R1D6REC9HPJVQY|          4|           31|         41|   Y|                N|\n",
            "+--------------+-----------+-------------+-----------+----+-----------------+\n",
            "\n"
          ]
        }
      ]
    },
    {
      "cell_type": "markdown",
      "source": [
        "Repeat Step 3, but this time retrieve all the rows where the review was not part of the Vine program (unpaid), vine == 'N'."
      ],
      "metadata": {
        "id": "CPDN2atrLT9e"
      }
    },
    {
      "cell_type": "code",
      "source": [
        "not_vine_helpful_reviews_df=helpful_reviews_df.filter(\"vine=='N'\")\n",
        "not_vine_helpful_reviews_df.show()"
      ],
      "metadata": {
        "colab": {
          "base_uri": "https://localhost:8080/"
        },
        "id": "dJPHC4b6JYiP",
        "outputId": "9027aee8-646e-48d1-bc0a-eaf1e0f756df"
      },
      "execution_count": 9,
      "outputs": [
        {
          "output_type": "stream",
          "name": "stdout",
          "text": [
            "+--------------+-----------+-------------+-----------+----+-----------------+\n",
            "|     review_id|star_rating|helpful_votes|total_votes|vine|verified_purchase|\n",
            "+--------------+-----------+-------------+-----------+----+-----------------+\n",
            "| RBEMQ29WJBHYG|          5|          164|        168|   N|                Y|\n",
            "|R13W3EMIUV120L|          4|          288|        294|   N|                Y|\n",
            "|R30TJ8POYNVCRE|          5|           15|         21|   N|                N|\n",
            "|R1LK03P7BCJEJD|          1|           31|         35|   N|                Y|\n",
            "| RBXUICKGHL685|          1|           48|         52|   N|                N|\n",
            "|R2E16WLZKP78GO|          5|           19|         21|   N|                Y|\n",
            "|R1EN4PGQIFSENW|          5|           27|         28|   N|                Y|\n",
            "| RXZWQU66AHIYG|          5|           24|         25|   N|                Y|\n",
            "|R2IXCZCSUKH8FB|          3|           78|         82|   N|                Y|\n",
            "|R25RB38U9LL8OE|          5|           24|         29|   N|                Y|\n",
            "| RSHPPH6BRXYRS|          2|           42|         48|   N|                N|\n",
            "|R39HYCYEWFZP3B|          5|           36|         36|   N|                N|\n",
            "|R2C68DIKTG0M7W|          5|           18|         20|   N|                Y|\n",
            "|R2I6O4S2CZK8WQ|          1|          175|        181|   N|                Y|\n",
            "|R1EPU8R4MVRIQ7|          4|           21|         22|   N|                Y|\n",
            "|R1AL1OVEHNX5JC|          5|           19|         22|   N|                Y|\n",
            "| RVE1FMV48N1ZD|          5|           37|         41|   N|                N|\n",
            "| R6SR9BXDPIYMZ|          5|           51|         57|   N|                Y|\n",
            "|R1JQPDB1WJ4CKV|          3|           25|         26|   N|                N|\n",
            "|R3L7LS0NW1L6PQ|          5|           97|        101|   N|                Y|\n",
            "+--------------+-----------+-------------+-----------+----+-----------------+\n",
            "only showing top 20 rows\n",
            "\n"
          ]
        }
      ]
    },
    {
      "cell_type": "markdown",
      "source": [
        "Determine the total number of reviews, the number of 5-star reviews, and the percentage of 5-star reviews for the two types of review (paid vs unpaid)"
      ],
      "metadata": {
        "id": "UqNXnYshOI8U"
      }
    },
    {
      "cell_type": "code",
      "source": [
        "total_num_helpful_reviews = helpful_reviews_df.count()\n",
        "total_num_helpful_reviews"
      ],
      "metadata": {
        "colab": {
          "base_uri": "https://localhost:8080/"
        },
        "id": "5rsHs1clLZNX",
        "outputId": "904409f4-62fa-4f53-8301-4169565998bd"
      },
      "execution_count": 10,
      "outputs": [
        {
          "output_type": "execute_result",
          "data": {
            "text/plain": [
              "1068"
            ]
          },
          "metadata": {},
          "execution_count": 10
        }
      ]
    },
    {
      "cell_type": "markdown",
      "source": [
        "vine reviews\n"
      ],
      "metadata": {
        "id": "GGo7-fWKTwZd"
      }
    },
    {
      "cell_type": "code",
      "source": [
        "total_num_helpful_vine_reviews = vine_helpful_reviews_df.count()\n",
        "total_num_helpful_vine_reviews"
      ],
      "metadata": {
        "colab": {
          "base_uri": "https://localhost:8080/"
        },
        "id": "OIZPKyoMJYYm",
        "outputId": "199b1af9-590b-413a-fc41-c09a0ba2b9b6"
      },
      "execution_count": 11,
      "outputs": [
        {
          "output_type": "execute_result",
          "data": {
            "text/plain": [
              "4"
            ]
          },
          "metadata": {},
          "execution_count": 11
        }
      ]
    },
    {
      "cell_type": "code",
      "source": [
        "five_star_vine_reviews = vine_helpful_reviews_df.filter(\"star_rating=='5'\").count()\n",
        "five_star_vine_reviews"
      ],
      "metadata": {
        "colab": {
          "base_uri": "https://localhost:8080/"
        },
        "id": "3uJ71wQiT034",
        "outputId": "5339e0cb-383c-47ad-8252-5e889121fb4e"
      },
      "execution_count": 17,
      "outputs": [
        {
          "output_type": "execute_result",
          "data": {
            "text/plain": [
              "1"
            ]
          },
          "metadata": {},
          "execution_count": 17
        }
      ]
    },
    {
      "cell_type": "code",
      "source": [
        "percent_five_star_vine_reviews = (five_star_vine_reviews/total_num_helpful_vine_reviews)*100\n",
        "percent_five_star_vine_reviews"
      ],
      "metadata": {
        "colab": {
          "base_uri": "https://localhost:8080/"
        },
        "id": "L9zMgnTsUCNr",
        "outputId": "55ea97b3-c9ce-4d94-b688-9c0eee007bdf"
      },
      "execution_count": 20,
      "outputs": [
        {
          "output_type": "execute_result",
          "data": {
            "text/plain": [
              "25.0"
            ]
          },
          "metadata": {},
          "execution_count": 20
        }
      ]
    },
    {
      "cell_type": "markdown",
      "source": [
        "None-Vine Reviews"
      ],
      "metadata": {
        "id": "6TD0f9cGTsS_"
      }
    },
    {
      "cell_type": "code",
      "source": [
        "total_num_helpful_not_vine_reviews = not_vine_helpful_reviews_df.count()\n",
        "total_num_helpful_not_vine_reviews"
      ],
      "metadata": {
        "colab": {
          "base_uri": "https://localhost:8080/"
        },
        "id": "pm5J-Pa-OZbD",
        "outputId": "1de13b38-f4da-46db-d1fc-a4b036e9a703"
      },
      "execution_count": 12,
      "outputs": [
        {
          "output_type": "execute_result",
          "data": {
            "text/plain": [
              "1064"
            ]
          },
          "metadata": {},
          "execution_count": 12
        }
      ]
    },
    {
      "cell_type": "code",
      "source": [
        "five_star_not_vine_reviews = not_vine_helpful_reviews_df.filter(\"star_rating=='5'\").count()\n",
        "five_star_not_vine_reviews"
      ],
      "metadata": {
        "colab": {
          "base_uri": "https://localhost:8080/"
        },
        "id": "gp0aJp-QOZXc",
        "outputId": "d936bece-4397-412a-ea4b-3db22f3f29c7"
      },
      "execution_count": 18,
      "outputs": [
        {
          "output_type": "execute_result",
          "data": {
            "text/plain": [
              "527"
            ]
          },
          "metadata": {},
          "execution_count": 18
        }
      ]
    },
    {
      "cell_type": "code",
      "source": [
        "percent_five_star_not_vine_reviews = (five_star_not_vine_reviews/total_num_helpful_not_vine_reviews)*100\n",
        "percent_five_star_not_vine_reviews"
      ],
      "metadata": {
        "colab": {
          "base_uri": "https://localhost:8080/"
        },
        "id": "-m4L4oI_OZTv",
        "outputId": "aeccbe1f-77b1-4b9d-a316-3f9fb84c0ee9"
      },
      "execution_count": 19,
      "outputs": [
        {
          "output_type": "execute_result",
          "data": {
            "text/plain": [
              "49.53007518796993"
            ]
          },
          "metadata": {},
          "execution_count": 19
        }
      ]
    }
  ]
}